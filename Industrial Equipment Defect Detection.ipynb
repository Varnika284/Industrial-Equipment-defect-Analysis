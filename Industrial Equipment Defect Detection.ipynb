{
 "cells": [
  {
   "cell_type": "code",
   "execution_count": 5,
   "id": "9b44dbaf",
   "metadata": {},
   "outputs": [],
   "source": [
    "import numpy as np\n",
    "import os\n",
    "import tensorflow as tf\n",
    "from tensorflow.keras.preprocessing.image import ImageDataGenerator\n",
    "from tensorflow.keras.models import Sequential\n",
    "from tensorflow.keras.layers import Conv2D, MaxPooling2D, Flatten, Dense, Dropout\n",
    "from sklearn.metrics import classification_report, confusion_matrix\n",
    "import matplotlib.pyplot as plt\n",
    "import seaborn as sns"
   ]
  },
  {
   "cell_type": "code",
   "execution_count": 11,
   "id": "8f1896c4",
   "metadata": {},
   "outputs": [],
   "source": [
    "# Set paths to dataset\n",
    "train_dir = r\"C:\\Users\\Varnika\\Downloads\\casting_512x512\"  # Replace with your extracted folder path"
   ]
  },
  {
   "cell_type": "code",
   "execution_count": 12,
   "id": "1959c0f8",
   "metadata": {},
   "outputs": [],
   "source": [
    "# Preprocess the data with data augmentation\n",
    "data_gen = ImageDataGenerator(rescale=1.0/255.0, validation_split=0.2)\n"
   ]
  },
  {
   "cell_type": "code",
   "execution_count": 13,
   "id": "cd1c1d45",
   "metadata": {},
   "outputs": [
    {
     "name": "stdout",
     "output_type": "stream",
     "text": [
      "Found 1041 images belonging to 2 classes.\n"
     ]
    }
   ],
   "source": [
    "train_data = data_gen.flow_from_directory(\n",
    "    directory=train_dir,\n",
    "    target_size=(150, 150),\n",
    "    batch_size=32,\n",
    "    class_mode='binary',\n",
    "    subset='training'\n",
    ")"
   ]
  },
  {
   "cell_type": "code",
   "execution_count": 14,
   "id": "df76f428",
   "metadata": {},
   "outputs": [
    {
     "name": "stdout",
     "output_type": "stream",
     "text": [
      "Found 259 images belonging to 2 classes.\n"
     ]
    }
   ],
   "source": [
    "val_data = data_gen.flow_from_directory(\n",
    "    directory=train_dir,\n",
    "    target_size=(150, 150),\n",
    "    batch_size=32,\n",
    "    class_mode='binary',\n",
    "    subset='validation'\n",
    ")"
   ]
  },
  {
   "cell_type": "code",
   "execution_count": 15,
   "id": "0a460dd0",
   "metadata": {},
   "outputs": [
    {
     "name": "stdout",
     "output_type": "stream",
     "text": [
      "Class Indices: {'def_front': 0, 'ok_front': 1}\n"
     ]
    }
   ],
   "source": [
    "# Display class indices\n",
    "class_indices = train_data.class_indices\n",
    "print(\"Class Indices:\", class_indices)"
   ]
  },
  {
   "cell_type": "code",
   "execution_count": 16,
   "id": "54537687",
   "metadata": {},
   "outputs": [
    {
     "name": "stderr",
     "output_type": "stream",
     "text": [
      "C:\\Users\\Varnika\\AppData\\Local\\Programs\\Python\\Python311\\Lib\\site-packages\\keras\\src\\layers\\convolutional\\base_conv.py:99: UserWarning: Do not pass an `input_shape`/`input_dim` argument to a layer. When using Sequential models, prefer using an `Input(shape)` object as the first layer in the model instead.\n",
      "  super().__init__(\n"
     ]
    }
   ],
   "source": [
    "# Define the CNN model\n",
    "model = Sequential([\n",
    "    Conv2D(32, (3, 3), activation='relu', input_shape=(150, 150, 3)),\n",
    "    MaxPooling2D(pool_size=(2, 2)),\n",
    "    Conv2D(64, (3, 3), activation='relu'),\n",
    "    MaxPooling2D(pool_size=(2, 2)),\n",
    "    Conv2D(128, (3, 3), activation='relu'),\n",
    "    MaxPooling2D(pool_size=(2, 2)),\n",
    "    Flatten(),\n",
    "    Dense(128, activation='relu'),\n",
    "    Dropout(0.5),\n",
    "    Dense(1, activation='sigmoid')\n",
    "])"
   ]
  },
  {
   "cell_type": "code",
   "execution_count": 17,
   "id": "862e0534",
   "metadata": {},
   "outputs": [],
   "source": [
    "# Compile the model\n",
    "model.compile(optimizer='adam',\n",
    "              loss='binary_crossentropy',\n",
    "              metrics=['accuracy'])"
   ]
  },
  {
   "cell_type": "code",
   "execution_count": 18,
   "id": "6ff8ac3e",
   "metadata": {},
   "outputs": [
    {
     "name": "stdout",
     "output_type": "stream",
     "text": [
      "Epoch 1/10\n"
     ]
    },
    {
     "name": "stderr",
     "output_type": "stream",
     "text": [
      "C:\\Users\\Varnika\\AppData\\Local\\Programs\\Python\\Python311\\Lib\\site-packages\\keras\\src\\trainers\\data_adapters\\py_dataset_adapter.py:120: UserWarning: Your `PyDataset` class should call `super().__init__(**kwargs)` in its constructor. `**kwargs` can include `workers`, `use_multiprocessing`, `max_queue_size`. Do not pass these arguments to `fit()`, as they will be ignored.\n",
      "  self._warn_if_super_not_called()\n"
     ]
    },
    {
     "name": "stdout",
     "output_type": "stream",
     "text": [
      "\u001b[1m33/33\u001b[0m \u001b[32m━━━━━━━━━━━━━━━━━━━━\u001b[0m\u001b[37m\u001b[0m \u001b[1m18s\u001b[0m 404ms/step - accuracy: 0.5782 - loss: 0.7793 - val_accuracy: 0.6795 - val_loss: 0.5931\n",
      "Epoch 2/10\n",
      "\u001b[1m33/33\u001b[0m \u001b[32m━━━━━━━━━━━━━━━━━━━━\u001b[0m\u001b[37m\u001b[0m \u001b[1m12s\u001b[0m 353ms/step - accuracy: 0.7217 - loss: 0.5564 - val_accuracy: 0.7104 - val_loss: 0.5490\n",
      "Epoch 3/10\n",
      "\u001b[1m33/33\u001b[0m \u001b[32m━━━━━━━━━━━━━━━━━━━━\u001b[0m\u001b[37m\u001b[0m \u001b[1m12s\u001b[0m 339ms/step - accuracy: 0.7330 - loss: 0.4996 - val_accuracy: 0.7220 - val_loss: 0.5540\n",
      "Epoch 4/10\n",
      "\u001b[1m33/33\u001b[0m \u001b[32m━━━━━━━━━━━━━━━━━━━━\u001b[0m\u001b[37m\u001b[0m \u001b[1m12s\u001b[0m 349ms/step - accuracy: 0.7930 - loss: 0.4316 - val_accuracy: 0.7838 - val_loss: 0.4303\n",
      "Epoch 5/10\n",
      "\u001b[1m33/33\u001b[0m \u001b[32m━━━━━━━━━━━━━━━━━━━━\u001b[0m\u001b[37m\u001b[0m \u001b[1m12s\u001b[0m 343ms/step - accuracy: 0.8204 - loss: 0.3892 - val_accuracy: 0.8378 - val_loss: 0.3472\n",
      "Epoch 6/10\n",
      "\u001b[1m33/33\u001b[0m \u001b[32m━━━━━━━━━━━━━━━━━━━━\u001b[0m\u001b[37m\u001b[0m \u001b[1m12s\u001b[0m 337ms/step - accuracy: 0.8523 - loss: 0.3153 - val_accuracy: 0.8147 - val_loss: 0.3571\n",
      "Epoch 7/10\n",
      "\u001b[1m33/33\u001b[0m \u001b[32m━━━━━━━━━━━━━━━━━━━━\u001b[0m\u001b[37m\u001b[0m \u001b[1m12s\u001b[0m 347ms/step - accuracy: 0.8667 - loss: 0.3070 - val_accuracy: 0.9073 - val_loss: 0.2255\n",
      "Epoch 8/10\n",
      "\u001b[1m33/33\u001b[0m \u001b[32m━━━━━━━━━━━━━━━━━━━━\u001b[0m\u001b[37m\u001b[0m \u001b[1m13s\u001b[0m 367ms/step - accuracy: 0.9157 - loss: 0.1923 - val_accuracy: 0.8996 - val_loss: 0.2542\n",
      "Epoch 9/10\n",
      "\u001b[1m33/33\u001b[0m \u001b[32m━━━━━━━━━━━━━━━━━━━━\u001b[0m\u001b[37m\u001b[0m \u001b[1m12s\u001b[0m 334ms/step - accuracy: 0.9232 - loss: 0.2156 - val_accuracy: 0.9266 - val_loss: 0.1697\n",
      "Epoch 10/10\n",
      "\u001b[1m33/33\u001b[0m \u001b[32m━━━━━━━━━━━━━━━━━━━━\u001b[0m\u001b[37m\u001b[0m \u001b[1m12s\u001b[0m 340ms/step - accuracy: 0.9379 - loss: 0.1673 - val_accuracy: 0.9228 - val_loss: 0.1908\n"
     ]
    }
   ],
   "source": [
    "# Train the model\n",
    "history = model.fit(train_data,\n",
    "                    validation_data=val_data,\n",
    "                    epochs=10,\n",
    "                    verbose=1)"
   ]
  },
  {
   "cell_type": "code",
   "execution_count": 19,
   "id": "8b9b74e4",
   "metadata": {},
   "outputs": [
    {
     "name": "stdout",
     "output_type": "stream",
     "text": [
      "\u001b[1m9/9\u001b[0m \u001b[32m━━━━━━━━━━━━━━━━━━━━\u001b[0m\u001b[37m\u001b[0m \u001b[1m1s\u001b[0m 133ms/step\n"
     ]
    }
   ],
   "source": [
    "# Evaluate the model\n",
    "val_data.reset()\n",
    "y_pred = (model.predict(val_data) > 0.5).astype(\"int32\").flatten()\n",
    "y_true = val_data.classes"
   ]
  },
  {
   "cell_type": "code",
   "execution_count": 20,
   "id": "27e706df",
   "metadata": {},
   "outputs": [
    {
     "name": "stdout",
     "output_type": "stream",
     "text": [
      "Classification Report:\n",
      "                precision    recall  f1-score   support\n",
      "\n",
      "non-defective       0.61      0.54      0.57       156\n",
      "    defective       0.40      0.47      0.43       103\n",
      "\n",
      "     accuracy                           0.51       259\n",
      "    macro avg       0.51      0.51      0.50       259\n",
      " weighted avg       0.53      0.51      0.52       259\n",
      "\n"
     ]
    }
   ],
   "source": [
    "# Print classification report\n",
    "print(\"Classification Report:\\n\", classification_report(y_true, y_pred, target_names=['non-defective', 'defective']))\n"
   ]
  },
  {
   "cell_type": "code",
   "execution_count": 21,
   "id": "69b84bcd",
   "metadata": {},
   "outputs": [
    {
     "data": {
      "image/png": "[encoded data removed]",
      "text/plain": [
       "<Figure size 800x600 with 2 Axes>"
      ]
     },
     "metadata": {},
     "output_type": "display_data"
    }
   ],
   "source": [
    "# Plot confusion matrix\n",
    "cm = confusion_matrix(y_true, y_pred)\n",
    "plt.figure(figsize=(8,6))\n",
    "sns.heatmap(cm, annot=True, fmt=\"d\", cmap=\"Blues\", xticklabels=['non-defective', 'defective'], yticklabels=['non-defective', 'defective'])\n",
    "plt.ylabel('Actual')\n",
    "plt.xlabel('Predicted')\n",
    "plt.title('Confusion Matrix')\n",
    "plt.show()"
   ]
  },
  {
   "cell_type": "code",
   "execution_count": null,
   "id": "4c9b7e5a",
   "metadata": {},
   "outputs": [],
   "source": []
  }
 ],
 "metadata": {
  "kernelspec": {
   "display_name": "Python 3 (ipykernel)",
   "language": "python",
   "name": "python3"
  },
  "language_info": {
   "codemirror_mode": {
    "name": "ipython",
    "version": 3
   },
   "file_extension": ".py",
   "mimetype": "text/x-python",
   "name": "python",
   "nbconvert_exporter": "python",
   "pygments_lexer": "ipython3",
   "version": "3.11.2"
  }
 },
 "nbformat": 4,
 "nbformat_minor": 5
}
